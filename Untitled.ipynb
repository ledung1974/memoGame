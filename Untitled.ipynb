{
 "cells": [
  {
   "cell_type": "markdown",
   "metadata": {},
   "source": [
    "# Find an object in an oject-array "
   ]
  },
  {
   "cell_type": "code",
   "execution_count": 1,
   "metadata": {},
   "outputs": [],
   "source": [
    "const scr = [\n",
    "        { \n",
    "            eventname:\"Shuffle cards\",\n",
    "            soundscr:\"../sounds/shufflecards.mp3\"\n",
    "        },\n",
    "        {   \n",
    "            eventname:\"Flip a card\",\n",
    "            soundscr:\"../sounds/flipcard.mp3\"\n",
    "        },\n",
    "        {   \n",
    "            eventname:\"Correct card\",\n",
    "            soundscr:\"../sounds/correctcard.mp3\"\n",
    "        },\n",
    "        {   \n",
    "            eventname:\"Wrong card\",\n",
    "            soundscr:\"../sounds/wrongcard.mp3\"\n",
    "        },\n",
    "        {   \n",
    "            eventname:\"Well done\",\n",
    "            soundscr:\"../sounds/welldone.mp3\"\n",
    "        },\n",
    "        {   \n",
    "            eventname:\"Game over\",\n",
    "            soundscr:\"../sounds/gameover.mp3\"\n",
    "        },\n",
    "        {   \n",
    "            eventname:\"On top score\",\n",
    "            soundscr:\"../sounds/topscore.mp3\"\n",
    "        }\n",
    "    ]"
   ]
  },
  {
   "cell_type": "code",
   "execution_count": 2,
   "metadata": {},
   "outputs": [],
   "source": [
    "let eventname = \"Game over\";\n"
   ]
  },
  {
   "cell_type": "code",
   "execution_count": 3,
   "metadata": {},
   "outputs": [
    {
     "name": "stdout",
     "output_type": "stream",
     "text": [
      "../sounds/gameover.mp3\n"
     ]
    }
   ],
   "source": [
    "let obj = scr.find(element => element.eventname===eventname);\n",
    "obj ? console.log(obj.soundscr) : console.log(\"Object not found !\")"
   ]
  },
  {
   "cell_type": "code",
   "execution_count": 4,
   "metadata": {},
   "outputs": [
    {
     "data": {
      "text/plain": [
       "'Game overrrrr'"
      ]
     },
     "execution_count": 4,
     "metadata": {},
     "output_type": "execute_result"
    }
   ],
   "source": [
    "eventname = \"Game overrrrr\";"
   ]
  },
  {
   "cell_type": "code",
   "execution_count": 5,
   "metadata": {},
   "outputs": [
    {
     "name": "stdout",
     "output_type": "stream",
     "text": [
      "Object not found !\n"
     ]
    }
   ],
   "source": [
    "obj = scr.find(element => element.eventname===eventname);\n",
    "obj ? console.log(obj.soundscr) : console.log(\"Object not found !\");"
   ]
  },
  {
   "cell_type": "code",
   "execution_count": null,
   "metadata": {},
   "outputs": [],
   "source": []
  }
 ],
 "metadata": {
  "kernelspec": {
   "display_name": "Javascript (Node.js)",
   "language": "javascript",
   "name": "javascript"
  },
  "language_info": {
   "file_extension": ".js",
   "mimetype": "application/javascript",
   "name": "javascript",
   "version": "12.19.0"
  }
 },
 "nbformat": 4,
 "nbformat_minor": 4
}
