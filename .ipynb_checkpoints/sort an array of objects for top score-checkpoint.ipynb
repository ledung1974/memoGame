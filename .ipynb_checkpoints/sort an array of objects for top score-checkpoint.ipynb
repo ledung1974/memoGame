{
 "cells": [
  {
   "cell_type": "code",
   "execution_count": 1,
   "metadata": {},
   "outputs": [],
   "source": [
    "let topscore = [\n",
    "    {\n",
    "       name:\"Le Dung\",\n",
    "       score:3000\n",
    "    },\n",
    "    \n",
    "    {\n",
    "       name:\"Huong Nguyen\",\n",
    "       score:1000\n",
    "    },\n",
    "    {\n",
    "       name:\"Le Bo\",\n",
    "       score:2000\n",
    "    }\n",
    "]"
   ]
  },
  {
   "cell_type": "code",
   "execution_count": 2,
   "metadata": {},
   "outputs": [
    {
     "data": {
      "text/plain": [
       "[\n",
       "  { name: 'Le Dung', score: 3000 },\n",
       "  { name: 'Huong Nguyen', score: 1000 },\n",
       "  { name: 'Le Bo', score: 2000 }\n",
       "]"
      ]
     },
     "execution_count": 2,
     "metadata": {},
     "output_type": "execute_result"
    }
   ],
   "source": [
    "topscore"
   ]
  },
  {
   "cell_type": "markdown",
   "metadata": {},
   "source": [
    "# Sort objects in the array by scores in descending order"
   ]
  },
  {
   "cell_type": "code",
   "execution_count": 3,
   "metadata": {},
   "outputs": [
    {
     "data": {
      "text/plain": [
       "[\n",
       "  { name: 'Le Dung', score: 3000 },\n",
       "  { name: 'Le Bo', score: 2000 },\n",
       "  { name: 'Huong Nguyen', score: 1000 }\n",
       "]"
      ]
     },
     "execution_count": 3,
     "metadata": {},
     "output_type": "execute_result"
    }
   ],
   "source": [
    "topscore.sort ((a, b) => b.score - a.score)"
   ]
  },
  {
   "cell_type": "markdown",
   "metadata": {},
   "source": [
    "# Sort objects in the array by scores in ascending order"
   ]
  },
  {
   "cell_type": "code",
   "execution_count": 4,
   "metadata": {},
   "outputs": [
    {
     "data": {
      "text/plain": [
       "[\n",
       "  { name: 'Huong Nguyen', score: 1000 },\n",
       "  { name: 'Le Bo', score: 2000 },\n",
       "  { name: 'Le Dung', score: 3000 }\n",
       "]"
      ]
     },
     "execution_count": 4,
     "metadata": {},
     "output_type": "execute_result"
    }
   ],
   "source": [
    "topscore.sort ((a, b) => a.score - b.score)"
   ]
  },
  {
   "cell_type": "markdown",
   "metadata": {},
   "source": [
    "# New object will replace the last object in the array "
   ]
  },
  {
   "cell_type": "code",
   "execution_count": 5,
   "metadata": {},
   "outputs": [],
   "source": [
    "let newUserScore = \n",
    "    {\n",
    "        name:\"Mark\",\n",
    "        score:1200\n",
    "    }"
   ]
  },
  {
   "cell_type": "code",
   "execution_count": 6,
   "metadata": {},
   "outputs": [
    {
     "data": {
      "text/plain": [
       "[\n",
       "  { name: 'Huong Nguyen', score: 1000 },\n",
       "  { name: 'Le Bo', score: 2000 },\n",
       "  { name: 'Le Dung', score: 3000 }\n",
       "]"
      ]
     },
     "execution_count": 6,
     "metadata": {},
     "output_type": "execute_result"
    }
   ],
   "source": [
    "topscore"
   ]
  },
  {
   "cell_type": "code",
   "execution_count": 7,
   "metadata": {},
   "outputs": [],
   "source": [
    "let last = topscore.length-1;"
   ]
  },
  {
   "cell_type": "code",
   "execution_count": 10,
   "metadata": {},
   "outputs": [
    {
     "data": {
      "text/plain": [
       "2"
      ]
     },
     "execution_count": 10,
     "metadata": {},
     "output_type": "execute_result"
    }
   ],
   "source": [
    "last"
   ]
  },
  {
   "cell_type": "markdown",
   "metadata": {},
   "source": [
    "# Replace the last element of the array by \"fill\""
   ]
  },
  {
   "cell_type": "code",
   "execution_count": 8,
   "metadata": {},
   "outputs": [
    {
     "data": {
      "text/plain": [
       "[\n",
       "  { name: 'Huong Nguyen', score: 1000 },\n",
       "  { name: 'Le Bo', score: 2000 },\n",
       "  { name: 'Mark', score: 1200 }\n",
       "]"
      ]
     },
     "execution_count": 8,
     "metadata": {},
     "output_type": "execute_result"
    }
   ],
   "source": [
    "if (topscore[last].score > newUserScore.score) {topscore.fill(newUserScore,last,last+1)}"
   ]
  },
  {
   "cell_type": "markdown",
   "metadata": {},
   "source": [
    "# Re-sort after replaced the last object by the new object"
   ]
  },
  {
   "cell_type": "code",
   "execution_count": 9,
   "metadata": {},
   "outputs": [
    {
     "data": {
      "text/plain": [
       "[\n",
       "  { name: 'Huong Nguyen', score: 1000 },\n",
       "  { name: 'Mark', score: 1200 },\n",
       "  { name: 'Le Bo', score: 2000 }\n",
       "]"
      ]
     },
     "execution_count": 9,
     "metadata": {},
     "output_type": "execute_result"
    }
   ],
   "source": [
    "topscore.sort ((a, b) => a.score - b.score)"
   ]
  },
  {
   "cell_type": "markdown",
   "metadata": {},
   "source": [
    "# Or can replace the last element of the array by \"splice\""
   ]
  },
  {
   "cell_type": "code",
   "execution_count": 10,
   "metadata": {},
   "outputs": [
    {
     "name": "stdout",
     "output_type": "stream",
     "text": [
      "[\n",
      "  { name: 'Huong Nguyen', score: 1000 },\n",
      "  { name: 'Trump', score: 1100 },\n",
      "  { name: 'Mark', score: 1200 }\n",
      "]\n"
     ]
    }
   ],
   "source": [
    "newUserScore = \n",
    "    {\n",
    "        name:\"Trump\",\n",
    "        score:1100\n",
    "    }\n",
    "if (topscore[last].score > newUserScore.score) {topscore.splice(last,1,newUserScore)}\n",
    "topscore.sort ((a, b) => a.score - b.score);\n",
    "console.log(topscore);"
   ]
  },
  {
   "cell_type": "code",
   "execution_count": null,
   "metadata": {},
   "outputs": [],
   "source": []
  }
 ],
 "metadata": {
  "kernelspec": {
   "display_name": "Javascript (Node.js)",
   "language": "javascript",
   "name": "javascript"
  },
  "language_info": {
   "file_extension": ".js",
   "mimetype": "application/javascript",
   "name": "javascript",
   "version": "12.19.0"
  }
 },
 "nbformat": 4,
 "nbformat_minor": 4
}
